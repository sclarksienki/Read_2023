{
 "cells": [
  {
   "cell_type": "code",
   "execution_count": 1,
   "id": "2d331db6",
   "metadata": {},
   "outputs": [
    {
     "data": {
      "text/html": [
       "<div>\n",
       "<style scoped>\n",
       "    .dataframe tbody tr th:only-of-type {\n",
       "        vertical-align: middle;\n",
       "    }\n",
       "\n",
       "    .dataframe tbody tr th {\n",
       "        vertical-align: top;\n",
       "    }\n",
       "\n",
       "    .dataframe thead th {\n",
       "        text-align: right;\n",
       "    }\n",
       "</style>\n",
       "<table border=\"1\" class=\"dataframe\">\n",
       "  <thead>\n",
       "    <tr style=\"text-align: right;\">\n",
       "      <th></th>\n",
       "      <th>Title</th>\n",
       "      <th>Page_Num</th>\n",
       "      <th>Graphic</th>\n",
       "      <th>Star_Wars</th>\n",
       "      <th>Fantasy</th>\n",
       "      <th>Romance</th>\n",
       "      <th>Self_Help</th>\n",
       "      <th>YA</th>\n",
       "    </tr>\n",
       "  </thead>\n",
       "  <tbody>\n",
       "    <tr>\n",
       "      <th>0</th>\n",
       "      <td>Demon in the Wood</td>\n",
       "      <td>203</td>\n",
       "      <td>1</td>\n",
       "      <td>NaN</td>\n",
       "      <td>1.0</td>\n",
       "      <td>NaN</td>\n",
       "      <td>NaN</td>\n",
       "      <td>NaN</td>\n",
       "    </tr>\n",
       "    <tr>\n",
       "      <th>1</th>\n",
       "      <td>Snow, Glass, Apples</td>\n",
       "      <td>64</td>\n",
       "      <td>1</td>\n",
       "      <td>NaN</td>\n",
       "      <td>1.0</td>\n",
       "      <td>1.0</td>\n",
       "      <td>NaN</td>\n",
       "      <td>NaN</td>\n",
       "    </tr>\n",
       "    <tr>\n",
       "      <th>2</th>\n",
       "      <td>Rebel Jail</td>\n",
       "      <td>142</td>\n",
       "      <td>1</td>\n",
       "      <td>1.0</td>\n",
       "      <td>NaN</td>\n",
       "      <td>NaN</td>\n",
       "      <td>NaN</td>\n",
       "      <td>NaN</td>\n",
       "    </tr>\n",
       "    <tr>\n",
       "      <th>3</th>\n",
       "      <td>Last Flight of the Harbinger</td>\n",
       "      <td>152</td>\n",
       "      <td>1</td>\n",
       "      <td>1.0</td>\n",
       "      <td>NaN</td>\n",
       "      <td>NaN</td>\n",
       "      <td>NaN</td>\n",
       "      <td>NaN</td>\n",
       "    </tr>\n",
       "    <tr>\n",
       "      <th>4</th>\n",
       "      <td>Brotherhood</td>\n",
       "      <td>332</td>\n",
       "      <td>0</td>\n",
       "      <td>1.0</td>\n",
       "      <td>NaN</td>\n",
       "      <td>NaN</td>\n",
       "      <td>NaN</td>\n",
       "      <td>NaN</td>\n",
       "    </tr>\n",
       "  </tbody>\n",
       "</table>\n",
       "</div>"
      ],
      "text/plain": [
       "                          Title  Page_Num  Graphic  Star_Wars  Fantasy  \\\n",
       "0             Demon in the Wood       203        1        NaN      1.0   \n",
       "1           Snow, Glass, Apples        64        1        NaN      1.0   \n",
       "2                    Rebel Jail       142        1        1.0      NaN   \n",
       "3  Last Flight of the Harbinger       152        1        1.0      NaN   \n",
       "4                   Brotherhood       332        0        1.0      NaN   \n",
       "\n",
       "   Romance  Self_Help  YA  \n",
       "0      NaN        NaN NaN  \n",
       "1      1.0        NaN NaN  \n",
       "2      NaN        NaN NaN  \n",
       "3      NaN        NaN NaN  \n",
       "4      NaN        NaN NaN  "
      ]
     },
     "execution_count": 1,
     "metadata": {},
     "output_type": "execute_result"
    }
   ],
   "source": [
    "import pandas as pd\n",
    "import matplotlib.pyplot as plt\n",
    "import seaborn as sns\n",
    "import numpy as np\n",
    "\n",
    "read_2023=pd.read_csv('~/Library/Mobile Documents/com~apple~CloudDocs/LC_DA/Git/Read_2023/Read_2023.csv')\n",
    "read_2023.head()"
   ]
  },
  {
   "cell_type": "code",
   "execution_count": 2,
   "id": "108e484b",
   "metadata": {},
   "outputs": [
    {
     "data": {
      "text/html": [
       "<div>\n",
       "<style scoped>\n",
       "    .dataframe tbody tr th:only-of-type {\n",
       "        vertical-align: middle;\n",
       "    }\n",
       "\n",
       "    .dataframe tbody tr th {\n",
       "        vertical-align: top;\n",
       "    }\n",
       "\n",
       "    .dataframe thead th {\n",
       "        text-align: right;\n",
       "    }\n",
       "</style>\n",
       "<table border=\"1\" class=\"dataframe\">\n",
       "  <thead>\n",
       "    <tr style=\"text-align: right;\">\n",
       "      <th></th>\n",
       "      <th>Title</th>\n",
       "      <th>Page_Num</th>\n",
       "      <th>Graphic</th>\n",
       "      <th>Star_Wars</th>\n",
       "      <th>Fantasy</th>\n",
       "      <th>Romance</th>\n",
       "      <th>Self_Help</th>\n",
       "      <th>YA</th>\n",
       "    </tr>\n",
       "  </thead>\n",
       "  <tbody>\n",
       "    <tr>\n",
       "      <th>0</th>\n",
       "      <td>Demon in the Wood</td>\n",
       "      <td>203</td>\n",
       "      <td>1</td>\n",
       "      <td>0.0</td>\n",
       "      <td>1.0</td>\n",
       "      <td>0.0</td>\n",
       "      <td>0.0</td>\n",
       "      <td>0.0</td>\n",
       "    </tr>\n",
       "    <tr>\n",
       "      <th>1</th>\n",
       "      <td>Snow, Glass, Apples</td>\n",
       "      <td>64</td>\n",
       "      <td>1</td>\n",
       "      <td>0.0</td>\n",
       "      <td>1.0</td>\n",
       "      <td>1.0</td>\n",
       "      <td>0.0</td>\n",
       "      <td>0.0</td>\n",
       "    </tr>\n",
       "    <tr>\n",
       "      <th>2</th>\n",
       "      <td>Rebel Jail</td>\n",
       "      <td>142</td>\n",
       "      <td>1</td>\n",
       "      <td>1.0</td>\n",
       "      <td>0.0</td>\n",
       "      <td>0.0</td>\n",
       "      <td>0.0</td>\n",
       "      <td>0.0</td>\n",
       "    </tr>\n",
       "    <tr>\n",
       "      <th>3</th>\n",
       "      <td>Last Flight of the Harbinger</td>\n",
       "      <td>152</td>\n",
       "      <td>1</td>\n",
       "      <td>1.0</td>\n",
       "      <td>0.0</td>\n",
       "      <td>0.0</td>\n",
       "      <td>0.0</td>\n",
       "      <td>0.0</td>\n",
       "    </tr>\n",
       "    <tr>\n",
       "      <th>4</th>\n",
       "      <td>Brotherhood</td>\n",
       "      <td>332</td>\n",
       "      <td>0</td>\n",
       "      <td>1.0</td>\n",
       "      <td>0.0</td>\n",
       "      <td>0.0</td>\n",
       "      <td>0.0</td>\n",
       "      <td>0.0</td>\n",
       "    </tr>\n",
       "  </tbody>\n",
       "</table>\n",
       "</div>"
      ],
      "text/plain": [
       "                          Title  Page_Num  Graphic  Star_Wars  Fantasy  \\\n",
       "0             Demon in the Wood       203        1        0.0      1.0   \n",
       "1           Snow, Glass, Apples        64        1        0.0      1.0   \n",
       "2                    Rebel Jail       142        1        1.0      0.0   \n",
       "3  Last Flight of the Harbinger       152        1        1.0      0.0   \n",
       "4                   Brotherhood       332        0        1.0      0.0   \n",
       "\n",
       "   Romance  Self_Help   YA  \n",
       "0      0.0        0.0  0.0  \n",
       "1      1.0        0.0  0.0  \n",
       "2      0.0        0.0  0.0  \n",
       "3      0.0        0.0  0.0  \n",
       "4      0.0        0.0  0.0  "
      ]
     },
     "execution_count": 2,
     "metadata": {},
     "output_type": "execute_result"
    }
   ],
   "source": [
    "read_2023=read_2023.fillna(0)\n",
    "read_2023.head()"
   ]
  },
  {
   "cell_type": "code",
   "execution_count": 3,
   "id": "8308d8ee",
   "metadata": {},
   "outputs": [
    {
     "name": "stdout",
     "output_type": "stream",
     "text": [
      "<class 'pandas.core.frame.DataFrame'>\n",
      "RangeIndex: 68 entries, 0 to 67\n",
      "Data columns (total 8 columns):\n",
      " #   Column     Non-Null Count  Dtype  \n",
      "---  ------     --------------  -----  \n",
      " 0   Title      68 non-null     object \n",
      " 1   Page_Num   68 non-null     int64  \n",
      " 2   Graphic    68 non-null     int64  \n",
      " 3   Star_Wars  68 non-null     float64\n",
      " 4   Fantasy    68 non-null     float64\n",
      " 5   Romance    68 non-null     float64\n",
      " 6   Self_Help  68 non-null     float64\n",
      " 7   YA         68 non-null     float64\n",
      "dtypes: float64(5), int64(2), object(1)\n",
      "memory usage: 4.4+ KB\n"
     ]
    }
   ],
   "source": [
    "read_2023.info()"
   ]
  },
  {
   "cell_type": "code",
   "execution_count": 4,
   "id": "4b54dc43",
   "metadata": {},
   "outputs": [
    {
     "data": {
      "text/html": [
       "<div>\n",
       "<style scoped>\n",
       "    .dataframe tbody tr th:only-of-type {\n",
       "        vertical-align: middle;\n",
       "    }\n",
       "\n",
       "    .dataframe tbody tr th {\n",
       "        vertical-align: top;\n",
       "    }\n",
       "\n",
       "    .dataframe thead th {\n",
       "        text-align: right;\n",
       "    }\n",
       "</style>\n",
       "<table border=\"1\" class=\"dataframe\">\n",
       "  <thead>\n",
       "    <tr style=\"text-align: right;\">\n",
       "      <th></th>\n",
       "      <th>Title</th>\n",
       "      <th>Page_Num</th>\n",
       "      <th>Graphic</th>\n",
       "      <th>Star_Wars</th>\n",
       "      <th>Fantasy</th>\n",
       "      <th>Romance</th>\n",
       "      <th>Self_Help</th>\n",
       "      <th>YA</th>\n",
       "      <th>count</th>\n",
       "    </tr>\n",
       "  </thead>\n",
       "  <tbody>\n",
       "    <tr>\n",
       "      <th>0</th>\n",
       "      <td>Demon in the Wood</td>\n",
       "      <td>203</td>\n",
       "      <td>1</td>\n",
       "      <td>0.0</td>\n",
       "      <td>1.0</td>\n",
       "      <td>0.0</td>\n",
       "      <td>0.0</td>\n",
       "      <td>0.0</td>\n",
       "      <td>0.25</td>\n",
       "    </tr>\n",
       "    <tr>\n",
       "      <th>1</th>\n",
       "      <td>Snow, Glass, Apples</td>\n",
       "      <td>64</td>\n",
       "      <td>1</td>\n",
       "      <td>0.0</td>\n",
       "      <td>1.0</td>\n",
       "      <td>1.0</td>\n",
       "      <td>0.0</td>\n",
       "      <td>0.0</td>\n",
       "      <td>0.25</td>\n",
       "    </tr>\n",
       "    <tr>\n",
       "      <th>2</th>\n",
       "      <td>Rebel Jail</td>\n",
       "      <td>142</td>\n",
       "      <td>1</td>\n",
       "      <td>1.0</td>\n",
       "      <td>0.0</td>\n",
       "      <td>0.0</td>\n",
       "      <td>0.0</td>\n",
       "      <td>0.0</td>\n",
       "      <td>0.25</td>\n",
       "    </tr>\n",
       "    <tr>\n",
       "      <th>3</th>\n",
       "      <td>Last Flight of the Harbinger</td>\n",
       "      <td>152</td>\n",
       "      <td>1</td>\n",
       "      <td>1.0</td>\n",
       "      <td>0.0</td>\n",
       "      <td>0.0</td>\n",
       "      <td>0.0</td>\n",
       "      <td>0.0</td>\n",
       "      <td>0.25</td>\n",
       "    </tr>\n",
       "    <tr>\n",
       "      <th>4</th>\n",
       "      <td>Brotherhood</td>\n",
       "      <td>332</td>\n",
       "      <td>0</td>\n",
       "      <td>1.0</td>\n",
       "      <td>0.0</td>\n",
       "      <td>0.0</td>\n",
       "      <td>0.0</td>\n",
       "      <td>0.0</td>\n",
       "      <td>1.00</td>\n",
       "    </tr>\n",
       "  </tbody>\n",
       "</table>\n",
       "</div>"
      ],
      "text/plain": [
       "                          Title  Page_Num  Graphic  Star_Wars  Fantasy  \\\n",
       "0             Demon in the Wood       203        1        0.0      1.0   \n",
       "1           Snow, Glass, Apples        64        1        0.0      1.0   \n",
       "2                    Rebel Jail       142        1        1.0      0.0   \n",
       "3  Last Flight of the Harbinger       152        1        1.0      0.0   \n",
       "4                   Brotherhood       332        0        1.0      0.0   \n",
       "\n",
       "   Romance  Self_Help   YA  count  \n",
       "0      0.0        0.0  0.0   0.25  \n",
       "1      1.0        0.0  0.0   0.25  \n",
       "2      0.0        0.0  0.0   0.25  \n",
       "3      0.0        0.0  0.0   0.25  \n",
       "4      0.0        0.0  0.0   1.00  "
      ]
     },
     "execution_count": 4,
     "metadata": {},
     "output_type": "execute_result"
    }
   ],
   "source": [
    "def count(series1, series2):\n",
    "    if series1 == 1 and series2 <400:\n",
    "        return 0.25\n",
    "    elif series1 == 1 and series2 >=400:\n",
    "        return 0.5\n",
    "    elif series1 == 0 and series2 <400:\n",
    "        return 1\n",
    "    elif series1 == 0 and series2 >=400:\n",
    "        return 2\n",
    "    elif series1 == 0 and series2 >=800:\n",
    "        return 3\n",
    "    else:\n",
    "        return 0\n",
    "    \n",
    "read_2023['count'] = read_2023.apply(lambda x: count(x['Graphic'], x['Page_Num']), axis=1)\n",
    "read_2023.head()"
   ]
  },
  {
   "cell_type": "code",
   "execution_count": 5,
   "id": "2c77eb91",
   "metadata": {},
   "outputs": [
    {
     "data": {
      "text/plain": [
       "71.75"
      ]
     },
     "execution_count": 5,
     "metadata": {},
     "output_type": "execute_result"
    }
   ],
   "source": [
    "read_2023['count'].sum()"
   ]
  },
  {
   "cell_type": "code",
   "execution_count": 6,
   "id": "d98fb122",
   "metadata": {},
   "outputs": [
    {
     "data": {
      "text/plain": [
       "Star_Wars\n",
       "0.0    0.632353\n",
       "1.0    0.367647\n",
       "dtype: float64"
      ]
     },
     "execution_count": 6,
     "metadata": {},
     "output_type": "execute_result"
    }
   ],
   "source": [
    "read_2023.value_counts('Star_Wars', normalize=True)"
   ]
  },
  {
   "cell_type": "code",
   "execution_count": 7,
   "id": "5491ce04",
   "metadata": {},
   "outputs": [
    {
     "data": {
      "text/plain": [
       "Self_Help\n",
       "0.0    0.911765\n",
       "1.0    0.088235\n",
       "dtype: float64"
      ]
     },
     "execution_count": 7,
     "metadata": {},
     "output_type": "execute_result"
    }
   ],
   "source": [
    "read_2023.value_counts('Self_Help', normalize=True)"
   ]
  },
  {
   "cell_type": "code",
   "execution_count": 8,
   "id": "c540edc3",
   "metadata": {},
   "outputs": [
    {
     "data": {
      "text/plain": [
       "YA\n",
       "0.0    0.852941\n",
       "1.0    0.147059\n",
       "dtype: float64"
      ]
     },
     "execution_count": 8,
     "metadata": {},
     "output_type": "execute_result"
    }
   ],
   "source": [
    "read_2023.value_counts('YA', normalize=True)"
   ]
  },
  {
   "cell_type": "code",
   "execution_count": 9,
   "id": "21d27f39",
   "metadata": {},
   "outputs": [
    {
     "data": {
      "text/html": [
       "<div>\n",
       "<style scoped>\n",
       "    .dataframe tbody tr th:only-of-type {\n",
       "        vertical-align: middle;\n",
       "    }\n",
       "\n",
       "    .dataframe tbody tr th {\n",
       "        vertical-align: top;\n",
       "    }\n",
       "\n",
       "    .dataframe thead th {\n",
       "        text-align: right;\n",
       "    }\n",
       "</style>\n",
       "<table border=\"1\" class=\"dataframe\">\n",
       "  <thead>\n",
       "    <tr style=\"text-align: right;\">\n",
       "      <th></th>\n",
       "      <th>Star_Wars</th>\n",
       "    </tr>\n",
       "    <tr>\n",
       "      <th>Graphic</th>\n",
       "      <th></th>\n",
       "    </tr>\n",
       "  </thead>\n",
       "  <tbody>\n",
       "    <tr>\n",
       "      <th>0</th>\n",
       "      <td>0.204545</td>\n",
       "    </tr>\n",
       "    <tr>\n",
       "      <th>1</th>\n",
       "      <td>0.666667</td>\n",
       "    </tr>\n",
       "  </tbody>\n",
       "</table>\n",
       "</div>"
      ],
      "text/plain": [
       "         Star_Wars\n",
       "Graphic           \n",
       "0         0.204545\n",
       "1         0.666667"
      ]
     },
     "execution_count": 9,
     "metadata": {},
     "output_type": "execute_result"
    }
   ],
   "source": [
    "read_2023.pivot_table('Star_Wars', index='Graphic')"
   ]
  },
  {
   "cell_type": "code",
   "execution_count": 12,
   "id": "7490978a",
   "metadata": {},
   "outputs": [
    {
     "data": {
      "image/png": "[encoded data removed]",
      "text/plain": [
       "<Figure size 640x480 with 1 Axes>"
      ]
     },
     "metadata": {},
     "output_type": "display_data"
    }
   ],
   "source": [
    "labels = ['Novel', 'Graphic Novel']\n",
    "colors = ['#ff9999','#66b3ff']\n",
    "star_wars_graphic = read_2023.pivot_table('Star_Wars', index='Graphic')\n",
    "\n",
    "plt.title('Star Wars Reads That Were Graphic Novels in 2023')\n",
    "plt.pie(star_wars_graphic['Star_Wars'], explode = (0.1, 0), shadow=True, labels=labels, colors=colors, autopct='%1.1f%%')\n",
    "plt.show()"
   ]
  },
  {
   "cell_type": "code",
   "execution_count": null,
   "id": "ba7b9670",
   "metadata": {},
   "outputs": [],
   "source": []
  }
 ],
 "metadata": {
  "kernelspec": {
   "display_name": "Python 3 (ipykernel)",
   "language": "python",
   "name": "python3"
  },
  "language_info": {
   "codemirror_mode": {
    "name": "ipython",
    "version": 3
   },
   "file_extension": ".py",
   "mimetype": "text/x-python",
   "name": "python",
   "nbconvert_exporter": "python",
   "pygments_lexer": "ipython3",
   "version": "3.10.9"
  }
 },
 "nbformat": 4,
 "nbformat_minor": 5
}
